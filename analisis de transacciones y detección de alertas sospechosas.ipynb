{
 "cells": [
  {
   "cell_type": "markdown",
   "metadata": {},
   "source": [
    "# Análisis de Transacciones y Detección de Alertas Sospechosas\n",
    "\n",
    "**1. Introducción**\n",
    "\n",
    "Este análisis tiene como objetivo examinar un conjunto de datos sobre transacciones financieras, prestando especial atención a la variable *flagged_alert*, que señala si una transacción ha sido considerada sospechosa (1) o no sospechosa (0). La idea es identificar posibles falsos positivos y evaluar cómo el monto (amount) y el tipo de transacción (transaction_type) influyen en la generación de alertas.\n",
    "\n",
    " *📌 Nota:Este análisis se realizó sobre un dataset ficticio con fines educativos y analíticos. No se está manejando información real ni confidencial.*\n",
    "\n",
    "**2. Descripción General del Dataset**\n",
    "\n",
    "Se utilizó el archivo transaction_data.csv que contiene 5000 transacciones. La variable principal de interés es el monto de la transacción *(amount)*, acompañado de indicadores como el tipo de transacción *(transaction_type)* y si fue marcada como sospechosa *(flagged_alert)*.\n",
    "\n",
    "   Estadísticas del Monto\n",
    "   - Monto mínimo: 10.06\n",
    "   - Monto máximo: 4997.79\n",
    "   - Media: 2474.55\n",
    "   - Desviación estándar: 1435.00\n",
    "   - Rango intercuartílico:\n",
    "      - 25% ≤ 1236.74\n",
    "      - 75% ≤ 3710.84\n",
    "   Debido a la desviación estándar y la media observamos que hay una alta variabilidad en los montos.\n"
   ]
  },
  {
   "cell_type": "code",
   "execution_count": null,
   "metadata": {},
   "outputs": [],
   "source": [
    "import pandas as pd\n",
    "import matplotlib.pyplot as plt \n",
    "import seaborn as sns\n",
    "\n",
    "f = pd.read_csv(\"transaction_data.csv\")\n",
    "print(f.describe())"
   ]
  },
  {
   "cell_type": "markdown",
   "metadata": {},
   "source": [
    "\n",
    "**Análisis de Alertas Sospechosas**\n",
    "\n",
    "Observamos que :\n",
    "- El *68.28%* de las transacciones fueron marcadas como *no sospechosas*.\n",
    "- El *31.72%* de las transacciones fueron marcadads como *sospechosas* . \n",
    "\n",
    "Esto nos indica que hay una cantidad considerable de *'alertas'* , esto lo confirmamos mediante un gráfico de barras donde se observa un mayor número de transacciones no marcadas como sospechosas.\n"
   ]
  },
  {
   "cell_type": "code",
   "execution_count": null,
   "metadata": {},
   "outputs": [],
   "source": [
    "\n",
    "print(f['flagged_alert'].value_counts(normalize=True))\n",
    "f['flagged_alert'].value_counts().plot(kind='bar', figsize=(10, 6),color='salmon')\n",
    "plt.xlabel('Flagged Alert')\n",
    "plt.ylabel('Cantidad de Transacciones')\n",
    "plt.title('Detección de falsos positivos')\n",
    "plt.show()"
   ]
  },
  {
   "cell_type": "markdown",
   "metadata": {},
   "source": [
    "\n",
    "**Comparación de los montos según alertas**\n",
    "\n",
    "Un análisis de caja nos reveló lo siguiente\n",
    "- la mediana de los montos en transacciones sospechosas es mayor que la de las no sospechosas.\n",
    "- Tienen rango de valores similares y alcanzan montos maximos parecidos.\n",
    "\n",
    "Con lo anterior podemos afirmar que\n",
    "- Se tiendne a marcar montos más altos como sospechosos\n",
    "- Hay transacciones grandes que pueden ser no marcadas como sospechosas y algunas pequeñas que si lo son\n",
    "\n",
    "Entonces si hay muchas transacciones con montos bajos marcados como transacción sospechosa podría ser señal de Falsos Positivos\n",
    "\n"
   ]
  },
  {
   "cell_type": "code",
   "execution_count": null,
   "metadata": {},
   "outputs": [],
   "source": [
    "plt.figure(figsize=(10,6))\n",
    "sns.boxplot(x=f['flagged_alert'],y=f['amount'],color='salmon')\n",
    "plt.xlabel('Flagged Alert')\n",
    "plt.ylabel('Monto de la Transacción')\n",
    "plt.title('Distribución de Montos en Transacciones Marcadas y No Marcadas')\n",
    "plt.show()"
   ]
  },
  {
   "cell_type": "markdown",
   "metadata": {},
   "source": [
    "**Posibles Falsos Positivos (FP)**\n",
    "\n",
    "Para identificar posibles falsos positivos,inicialmente se analizaron transacciones marcadas como sospechosas con montos inferiores a la mediana (2474.55) , es decir, se respondió a la pregunta *¿Cuantás transacciones de bajo monto fueron marcadas como sospechosas?*.\n",
    "\n",
    "Se obtuvieron 547 transacciones sospechosas con montos bajos,lo cuál nos sugiere que se podría estar marcando incorrectamente algunas transacciones normales.\n",
    "\n",
    "Ahora nos hacemos la pregunta, *¿Solo se detectan montos altos?*\n",
    "\n",
    "Al analizar las estadísticas de los montos según la clasificación de *alerta*, observamos lo siguiente:\n",
    "- Las transacciones de mayor monto tienen más probabilidades de ser marcadas como sospechosas.\n",
    "- Sin embargo, también hay transacciones pequeñas que fueron clasificadas como sospechosas.\n",
    "- El mínimo de ambas categorías es similar (10.06 y 10.15), lo cuál nos indica que existen montos bajos dentro de las transacciones sospechosas.\n",
    "- El 25% de las transacciones sospechosas tienen un monto igual o inferior a 1720.60, lo cual confirma que no todas las transacciones marcadas como sospechosas son de montos altos.\n",
    "\n",
    "Esto nos sugiere que, *aunque el monto es un factor clave en la clasificación de alertas, existen otros criterios que pueden llevar a que transacciones de bajo monto sean señaladas como sospechosas*.\n",
    "\n",
    "Al comparar la distribución de los montos para transacciones sospechosas y no sospechosas mediante un Análisis de Distribución (KDE Plot) se observa una diferencia notable en la forma de las curvas.Esto nos confirma que el monto tiene un impacto importante en la probabilidad de que una transacción sea marcada como sospechosa.\n",
    "\n",
    "Al finalizar se analizaron los *montos por tipo de transacción*,observamos lo siguiente\n",
    "\n",
    "- Algunos tipos de transacción presentan mayores tasas de sospecha que otros y se presentan variaciones en el monto promedio según el tipo de transacción.\n",
    "- Esto nos llega a indicar que el tipo de transacción también influye en la clasificación y podría ser una fuente de falsos positivos.\n"
   ]
  },
  {
   "cell_type": "code",
   "execution_count": null,
   "metadata": {},
   "outputs": [],
   "source": [
    "transacciones_bajo_monto = f[(f['amount'] < f['amount'].median()) & (f['flagged_alert'] == 1)]\n",
    "print(f\"Cantidad de transacciones sospechosas con monto bajo: {len(transacciones_bajo_monto)}\")\n",
    "#si hay muchas transacciones con montos bajos con f['flagged_alert'] == 1 podría ser señal de FP\n",
    "\n",
    "#solo se detectan montos bajos?\n",
    "print(f.groupby('flagged_alert')['amount'].describe())\n",
    "\n",
    "#el monto tiene un impacto en las alertas?\n",
    "sns.kdeplot(f[f['flagged_alert'] == 0]['amount'], label=\"No sospechosa\", fill=True)\n",
    "sns.kdeplot(f[f['flagged_alert'] == 1]['amount'], label=\"Sospechosa\", fill=True)\n",
    "plt.xlabel(\"Monto de la Transacción\")\n",
    "plt.ylabel(\"Densidad\")\n",
    "plt.title(\"Distribución de Montos en Transacciones Marcadas y No Marcadas\")\n",
    "plt.legend()\n",
    "plt.show()\n",
    "\n",
    "\n",
    "# Contamos alertas por tipo de transacción\n",
    "print(f.groupby(\"transaction_type\")[\"flagged_alert\"].mean() * 100)\n",
    "print(f.groupby(\"transaction_type\")[\"amount\"].mean())"
   ]
  },
  {
   "cell_type": "markdown",
   "metadata": {},
   "source": [
    "**Conclusiones**\n",
    "- El monto de la transacción influye significativamente en la clasificación de alertas.\n",
    "- Existen indicios de falsos positivos, especialmente en montos bajos.\n",
    "- El tipo de transacción también parece tener un impacto en la probabilidad de ser marcada como sospechosa.\n",
    "- Se recomienda un análisis más profundo para ajustar los parámetros del sistema de detección y reducir errores de clasificación.\n",
    "\n",
    "*📌 Nota final: Este análisis se basa en datos simulados y no representa información financiera real.*"
   ]
  }
 ],
 "metadata": {
  "language_info": {
   "name": "python"
  }
 },
 "nbformat": 4,
 "nbformat_minor": 2
}
